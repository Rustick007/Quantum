{
 "cells": [
  {
   "cell_type": "code",
   "execution_count": null,
   "id": "a97b4ae9",
   "metadata": {},
   "outputs": [],
   "source": [
    "# 1)Write dowm the kronecker product of the qubits: \n",
    "\n",
    "# a)  |0⟩|1⟩\n",
    "# b)  |0⟩|+⟩\n",
    "# c)  |0⟩|1⟩\n",
    "# d)  |-⟩|+⟩\n",
    "\n",
    "\n",
    "\n",
    "\n",
    "# 2)Calculate the single qubit unitary (U) created by the sequence f gates:  U=XZH\n",
    "\n",
    "\n",
    "# 3)Create a quantum circuit that produces the Bell state:  √2(|01⟩+|10⟩). Use the statevector simulator to verify your result.\n",
    "\n",
    "\n",
    "# 4)Create a quantum circuit that produces the Bell state:  √2(|01⟩+|10⟩). Use the statevector simulator to verify your result.\n",
    "\n",
    "\n",
    "# 5)The circuit you created in question 1 transforms the state  |00⟩ to  1√2(|01⟩+|10⟩),\n",
    "#  calculate the unitary of this circuit using Qiskit's simulator. Verify this unitary does in fact perform the correct transformation.\n",
    "\n",
    "\n",
    "# 6)\n"
   ]
  }
 ],
 "metadata": {
  "kernelspec": {
   "display_name": "Python 3",
   "language": "python",
   "name": "python3"
  },
  "language_info": {
   "codemirror_mode": {
    "name": "ipython",
    "version": 3
   },
   "file_extension": ".py",
   "mimetype": "text/x-python",
   "name": "python",
   "nbconvert_exporter": "python",
   "pygments_lexer": "ipython3",
   "version": "3.8.8"
  }
 },
 "nbformat": 4,
 "nbformat_minor": 5
}
